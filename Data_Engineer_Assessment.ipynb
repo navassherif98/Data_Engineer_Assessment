{
 "cells": [
  {
   "cell_type": "markdown",
   "id": "f5874745-021d-4268-863c-d1ca605a18f3",
   "metadata": {},
   "source": [
    "## Aidetic Data Engineer Assignment"
   ]
  },
  {
   "cell_type": "markdown",
   "id": "0cba9641-043a-4587-bb20-d80d458ca904",
   "metadata": {},
   "source": [
    "#### Install all required libraries"
   ]
  },
  {
   "cell_type": "code",
   "execution_count": 1,
   "id": "8fa82432-3842-44ec-9147-bc40fa512f2a",
   "metadata": {},
   "outputs": [],
   "source": [
    "\n",
    "from pyspark.sql import SparkSession\n",
    "from pyspark.sql import functions as F\n",
    "from pyspark.sql.types import StringType, FloatType\n",
    "from pyspark.sql.functions import col, to_timestamp, avg\n",
    "from pyspark.sql.functions import udf"
   ]
  },
  {
   "cell_type": "markdown",
   "id": "a3bf411f-10d4-41a2-bf4a-1f8973f8a586",
   "metadata": {},
   "source": [
    "####  Initialize Spark session"
   ]
  },
  {
   "cell_type": "code",
   "execution_count": 2,
   "id": "9d499f41-6165-4d18-aa19-19da16d913da",
   "metadata": {},
   "outputs": [],
   "source": [
    "spark = SparkSession.builder.appName(\"Aidetic\").config(\"spark.driver.memory\", \"4g\").config(\"spark.executor.memory\", \"2g\").master(\"local[*]\").getOrCreate()"
   ]
  },
  {
   "cell_type": "markdown",
   "id": "2803f06a-f3f7-45bc-a625-a3e016d2af72",
   "metadata": {},
   "source": [
    "#### Step 1: Load the dataset into a PySpark DataFrame"
   ]
  },
  {
   "cell_type": "code",
   "execution_count": 3,
   "id": "110b7b5a-e97a-4325-842f-0ae3c15a0c21",
   "metadata": {},
   "outputs": [],
   "source": [
    "folder_path = \"C:/Users/Navas/PycharmProjects/Data_Engineer_Assessment/\"\n",
    "input_path = folder_path + \"Data/database.csv\"\n",
    "output_path = folder_path + \"Output\"\n",
    "\n",
    "df = spark.read.csv(input_path, header=True, inferSchema=True)\n",
    "df= df.select(\"Date\",\"Time\",\"Latitude\",\"Longitude\",\"Type\",\"Depth\",\"Magnitude\")"
   ]
  },
  {
   "cell_type": "code",
   "execution_count": 4,
   "id": "161289a2-7d32-4ac4-b878-87a19b0d0e14",
   "metadata": {},
   "outputs": [
    {
     "name": "stdout",
     "output_type": "stream",
     "text": [
      "Total count :  23412\n",
      "+----------+-------------------+--------+---------+----------+-----+---------+\n",
      "|      Date|               Time|Latitude|Longitude|      Type|Depth|Magnitude|\n",
      "+----------+-------------------+--------+---------+----------+-----+---------+\n",
      "|01/02/1965|2024-02-06 13:44:18|  19.246|  145.616|Earthquake|131.6|      6.0|\n",
      "|01/04/1965|2024-02-06 11:29:49|   1.863|  127.352|Earthquake| 80.0|      5.8|\n",
      "|01/05/1965|2024-02-06 18:05:58| -20.579| -173.972|Earthquake| 20.0|      6.2|\n",
      "|01/08/1965|2024-02-06 18:49:43| -59.076|  -23.557|Earthquake| 15.0|      5.8|\n",
      "|01/09/1965|2024-02-06 13:32:50|  11.938|  126.427|Earthquake| 15.0|      5.8|\n",
      "+----------+-------------------+--------+---------+----------+-----+---------+\n",
      "only showing top 5 rows\n",
      "\n",
      "root\n",
      " |-- Date: string (nullable = true)\n",
      " |-- Time: timestamp (nullable = true)\n",
      " |-- Latitude: double (nullable = true)\n",
      " |-- Longitude: double (nullable = true)\n",
      " |-- Type: string (nullable = true)\n",
      " |-- Depth: double (nullable = true)\n",
      " |-- Magnitude: double (nullable = true)\n",
      "\n",
      "Column 'Date' has 0 NULL values.\n",
      "Column 'Time' has 0 NULL values.\n",
      "Column 'Latitude' has 0 NULL values.\n",
      "Column 'Longitude' has 0 NULL values.\n",
      "Column 'Type' has 0 NULL values.\n",
      "Column 'Depth' has 0 NULL values.\n",
      "Column 'Magnitude' has 0 NULL values.\n"
     ]
    }
   ],
   "source": [
    "print(\"Total count : \",df.count())\n",
    "df.show(5)\n",
    "df.printSchema()\n",
    "for col_name in df.columns:\n",
    "    null_count = df.filter(col(col_name).isNull()).count()\n",
    "    print(f\"Column '{col_name}' has {null_count} NULL values.\")"
   ]
  },
  {
   "cell_type": "markdown",
   "id": "3ca8fab3-d8d9-4094-af93-40ce069513d4",
   "metadata": {},
   "source": [
    "#### Step 2: Convert the Date and Time columns into a timestamp column named Timestamp"
   ]
  },
  {
   "cell_type": "code",
   "execution_count": 11,
   "id": "2e198985-cc87-4281-80f2-81fa89240665",
   "metadata": {},
   "outputs": [
    {
     "name": "stdout",
     "output_type": "stream",
     "text": [
      "+----------+-------------------+--------+---------+----------+-----+---------+---------+\n",
      "|      Date|               Time|Latitude|Longitude|      Type|Depth|Magnitude|only_time|\n",
      "+----------+-------------------+--------+---------+----------+-----+---------+---------+\n",
      "|01/02/1965|2024-02-06 13:44:18|  19.246|  145.616|Earthquake|131.6|      6.0| 13:44:18|\n",
      "|01/04/1965|2024-02-06 11:29:49|   1.863|  127.352|Earthquake| 80.0|      5.8| 11:29:49|\n",
      "|01/05/1965|2024-02-06 18:05:58| -20.579| -173.972|Earthquake| 20.0|      6.2| 18:05:58|\n",
      "+----------+-------------------+--------+---------+----------+-----+---------+---------+\n",
      "only showing top 3 rows\n",
      "\n",
      "Dataframe with Timestamp\n",
      "+----------+-------------------+--------+---------+----------+-----+---------+-------------------+\n",
      "|      Date|               Time|Latitude|Longitude|      Type|Depth|Magnitude|          Timestamp|\n",
      "+----------+-------------------+--------+---------+----------+-----+---------+-------------------+\n",
      "|01/02/1965|2024-02-06 13:44:18|  19.246|  145.616|Earthquake|131.6|      6.0|1965-01-02 13:44:18|\n",
      "|01/04/1965|2024-02-06 11:29:49|   1.863|  127.352|Earthquake| 80.0|      5.8|1965-01-04 11:29:49|\n",
      "|01/05/1965|2024-02-06 18:05:58| -20.579| -173.972|Earthquake| 20.0|      6.2|1965-01-05 18:05:58|\n",
      "+----------+-------------------+--------+---------+----------+-----+---------+-------------------+\n",
      "only showing top 3 rows\n",
      "\n"
     ]
    }
   ],
   "source": [
    "df=df.withColumn(\"only_time\",F.date_format(df[\"time\"],\"HH:mm:ss\"))\n",
    "df.show(3)\n",
    "\n",
    "print(\"Dataframe with Timestamp\")\n",
    "df_timestamp = df.withColumn(\"Timestamp\", to_timestamp(F.concat_ws(\" \", col(\"Date\"), col(\"only_time\")), \"MM/dd/yyyy HH:mm:ss\")).drop(\"only_time\")\n",
    "df_timestamp.show(3)"
   ]
  },
  {
   "cell_type": "markdown",
   "id": "1ed18225-716d-49c9-ac98-f11e01552a2a",
   "metadata": {},
   "source": [
    "#### Step 3: Filter the dataset to include only earthquakes with a magnitude greater than 5.0"
   ]
  },
  {
   "cell_type": "code",
   "execution_count": 6,
   "id": "46ca2b23-bffb-4746-a492-a9f0d27050d8",
   "metadata": {},
   "outputs": [
    {
     "name": "stdout",
     "output_type": "stream",
     "text": [
      "+-------+-------------------+\n",
      "|summary|          magnitude|\n",
      "+-------+-------------------+\n",
      "|  count|              23412|\n",
      "|   mean|  5.882530753460003|\n",
      "| stddev|0.42306563931579794|\n",
      "|    min|                5.5|\n",
      "|    max|                9.1|\n",
      "+-------+-------------------+\n",
      "\n",
      "Count after filter :  23412\n"
     ]
    }
   ],
   "source": [
    "df_timestamp.select(\"magnitude\").describe().show()\n",
    "df_filtered = df_timestamp.filter(col(\"Magnitude\")> 5.0)\n",
    "print(\"Count after filter : \",df_filtered.count())"
   ]
  },
  {
   "cell_type": "markdown",
   "id": "85500c0b-00d2-4b7b-bd5b-995ec4f117e6",
   "metadata": {},
   "source": [
    "#### Step 4: Calculate the average depth and magnitude of earthquakes for each earthquake type"
   ]
  },
  {
   "cell_type": "code",
   "execution_count": 7,
   "id": "e9f60462-38ff-47d7-b86e-9597e2afdb60",
   "metadata": {},
   "outputs": [
    {
     "name": "stdout",
     "output_type": "stream",
     "text": [
      "+-----------------+-----------------+-----------------+\n",
      "|             Type|    Average_Depth|Average_Magnitude|\n",
      "+-----------------+-----------------+-----------------+\n",
      "|        Explosion|              0.0|             5.85|\n",
      "|       Rock Burst|              1.0|              6.2|\n",
      "|Nuclear Explosion|              0.3|5.850685714285718|\n",
      "|       Earthquake|71.31391348140497|5.882762568870756|\n",
      "+-----------------+-----------------+-----------------+\n",
      "\n"
     ]
    }
   ],
   "source": [
    "df_avg = df_filtered.groupBy(\"Type\").agg(avg(\"Depth\").alias(\"Average_Depth\"), avg(\"Magnitude\").alias(\"Average_Magnitude\"))\n",
    "df_avg.show()"
   ]
  },
  {
   "cell_type": "markdown",
   "id": "f6dd622a-c81d-455c-ac88-fcb9dda3a8ba",
   "metadata": {},
   "source": [
    "#### Step 5: Implement a UDF to categorize the earthquakes into levels"
   ]
  },
  {
   "cell_type": "code",
   "execution_count": 8,
   "id": "c71797c5-a123-451f-9b6b-305b2abfdb46",
   "metadata": {},
   "outputs": [],
   "source": [
    "def categorize_magnitude(magnitude):\n",
    "    if magnitude < 6.0:\n",
    "        return \"Low\"\n",
    "    elif 6.0 <= magnitude < 8.0:\n",
    "        return \"Moderate\"\n",
    "    else:\n",
    "        return \"High\"\n",
    "\n",
    "categorize_magnitude_udf = udf(categorize_magnitude, StringType())\n",
    "df_categorized = df_filtered.withColumn(\"MagnitudeLevel\", categorize_magnitude_udf(col(\"Magnitude\")))"
   ]
  },
  {
   "cell_type": "markdown",
   "id": "3cb7310d-b69a-47f1-a5e6-a778477f8102",
   "metadata": {},
   "source": [
    "#### Step 6: Calculate the distance of each earthquake from a reference location"
   ]
  },
  {
   "cell_type": "code",
   "execution_count": 9,
   "id": "ca8b879d-992a-418c-9552-9b6e8b22d4a2",
   "metadata": {},
   "outputs": [
    {
     "name": "stdout",
     "output_type": "stream",
     "text": [
      "+----------+-------------------+--------+---------+----------+-----+---------+-------------------+---------------------+\n",
      "|      Date|               Time|Latitude|Longitude|      Type|Depth|Magnitude|          Timestamp|DistanceFromReference|\n",
      "+----------+-------------------+--------+---------+----------+-----+---------+-------------------+---------------------+\n",
      "|01/02/1965|2024-02-06 13:44:18|  19.246|  145.616|Earthquake|131.6|      6.0|1965-01-02 13:44:18|    146.8823609968195|\n",
      "|01/04/1965|2024-02-06 11:29:49|   1.863|  127.352|Earthquake| 80.0|      5.8|1965-01-04 11:29:49|   127.36562594750595|\n",
      "|01/05/1965|2024-02-06 18:05:58| -20.579| -173.972|Earthquake| 20.0|      6.2|1965-01-05 18:05:58|   175.18490809713035|\n",
      "+----------+-------------------+--------+---------+----------+-----+---------+-------------------+---------------------+\n",
      "only showing top 3 rows\n",
      "\n"
     ]
    }
   ],
   "source": [
    "df_distance = df_filtered.withColumn(\"DistanceFromReference\", F.sqrt((col(\"Latitude\") - 0)**2 + (col(\"Longitude\") - 0)**2))\n",
    "df_distance.show(3)"
   ]
  },
  {
   "cell_type": "markdown",
   "id": "2e426e98-fe04-4c2b-837a-597ff482bf81",
   "metadata": {},
   "source": [
    "#### Step 7: Visualize the geographical distribution of earthquakes"
   ]
  },
  {
   "cell_type": "code",
   "execution_count": null,
   "id": "2a71fca5-d86f-4b32-aca8-d7847a8b9837",
   "metadata": {},
   "outputs": [],
   "source": [
    "import folium\n",
    "from folium.plugins import MarkerCluster\n",
    "# Create a Folium map centered at a specific location (e.g., world center)\n",
    "earthquake_map = folium.Map(location=[0, 0], zoom_start=2)\n",
    "\n",
    "# Create a MarkerCluster to group earthquake markers for better visualization\n",
    "marker_cluster = MarkerCluster().add_to(earthquake_map)\n",
    "\n",
    "# Add markers for each earthquake to the map\n",
    "for row in df_distance.collect():\n",
    "    folium.Marker(\n",
    "        location=[row[\"Latitude\"], row[\"Longitude\"]],\n",
    "        popup=f\"Magnitude: {row['Magnitude']}, Depth: {row['Depth']}\",\n",
    "    ).add_to(marker_cluster)\n",
    "earthquake_map"
   ]
  },
  {
   "cell_type": "markdown",
   "id": "9e74f130-ed95-4bb8-9595-4b8473e7f16c",
   "metadata": {},
   "source": [
    "#### Step 8: Save the final CSV\n"
   ]
  },
  {
   "cell_type": "code",
   "execution_count": 10,
   "id": "bde57028-f41d-4aa1-9de2-f88bc6d8b8c2",
   "metadata": {},
   "outputs": [],
   "source": [
    "df.coalesce(1).write.mode(\"overwrite\").option(\"header\", \"true\").format(\"csv\").save(output_path)"
   ]
  },
  {
   "cell_type": "markdown",
   "id": "cdbc7c12-f925-4ff2-8314-431ec1ec5c54",
   "metadata": {},
   "source": [
    "#### Stop the Spark session\n"
   ]
  },
  {
   "cell_type": "code",
   "execution_count": null,
   "id": "b0c07fe7-62a0-439f-af5d-efe6d5100d85",
   "metadata": {},
   "outputs": [],
   "source": [
    "spark.stop()"
   ]
  }
 ],
 "metadata": {
  "kernelspec": {
   "display_name": "Python 3 (ipykernel)",
   "language": "python",
   "name": "python3"
  },
  "language_info": {
   "codemirror_mode": {
    "name": "ipython",
    "version": 3
   },
   "file_extension": ".py",
   "mimetype": "text/x-python",
   "name": "python",
   "nbconvert_exporter": "python",
   "pygments_lexer": "ipython3",
   "version": "3.12.1"
  }
 },
 "nbformat": 4,
 "nbformat_minor": 5
}
